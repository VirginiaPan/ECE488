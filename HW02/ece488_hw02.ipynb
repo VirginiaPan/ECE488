{
 "cells": [
  {
   "cell_type": "code",
   "execution_count": 64,
   "metadata": {},
   "outputs": [],
   "source": [
    "import numpy as np"
   ]
  },
  {
   "cell_type": "code",
   "execution_count": 65,
   "metadata": {},
   "outputs": [],
   "source": [
    "def capture(fcn, T, D, g, t_0=0):\n",
    "    #get t values at 1GHz sampling rate\n",
    "    t = np.arange(t_0, t_0+T, 1/(1*10**9))\n",
    "    # calculate f(t) values\n",
    "    f_t = fcn(t)\n",
    "    energy = (D/2)**2*np.pi*(1/683)*np.trapz(f_t, x=None, dx=1/(1*10**9), axis=0)\n",
    "    voltage = g*np.sqrt(2*energy/1)\n",
    "    disc = round(voltage, 0)\n",
    "    if (disc>255):\n",
    "        return 255\n",
    "    elif(disc<0):\n",
    "        return 0\n",
    "    else:\n",
    "        return int(disc)\n",
    "    \n",
    "def make_fcn(x):\n",
    "    return 0.5*np.sin(x)+0.5\n"
   ]
  },
  {
   "cell_type": "code",
   "execution_count": 66,
   "metadata": {},
   "outputs": [
    {
     "data": {
      "text/plain": [
       "1"
      ]
     },
     "execution_count": 66,
     "metadata": {},
     "output_type": "execute_result"
    }
   ],
   "source": [
    "capture(make_fcn,0.001,5,100)"
   ]
  },
  {
   "cell_type": "code",
   "execution_count": null,
   "metadata": {},
   "outputs": [],
   "source": []
  }
 ],
 "metadata": {
  "kernelspec": {
   "display_name": "Python [conda env:ece488] *",
   "language": "python",
   "name": "conda-env-ece488-py"
  },
  "language_info": {
   "codemirror_mode": {
    "name": "ipython",
    "version": 3
   },
   "file_extension": ".py",
   "mimetype": "text/x-python",
   "name": "python",
   "nbconvert_exporter": "python",
   "pygments_lexer": "ipython3",
   "version": "3.6.10"
  }
 },
 "nbformat": 4,
 "nbformat_minor": 2
}
